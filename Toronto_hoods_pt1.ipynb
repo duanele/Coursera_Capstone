{
 "cells": [
  {
   "cell_type": "markdown",
   "metadata": {},
   "source": [
    "# Segmenting and Clustering Neighborhoods in Toronto"
   ]
  },
  {
   "cell_type": "markdown",
   "metadata": {},
   "source": [
    "## Part 1: Create Dataframe of Toronto Neighborhoods"
   ]
  },
  {
   "cell_type": "code",
   "execution_count": 1,
   "metadata": {},
   "outputs": [],
   "source": [
    "# Import necessary modules.\n",
    "\n",
    "import numpy as np\n",
    "import pandas as pd\n",
    "import json \n",
    "import requests"
   ]
  },
  {
   "cell_type": "code",
   "execution_count": null,
   "metadata": {},
   "outputs": [],
   "source": [
    "# Install modules for parsing webpage.\n",
    "!pip install beautifulsoup4\n",
    "!pip install lxml"
   ]
  },
  {
   "cell_type": "code",
   "execution_count": 3,
   "metadata": {},
   "outputs": [],
   "source": [
    "import bs4 as BeautifulSoup"
   ]
  },
  {
   "cell_type": "markdown",
   "metadata": {},
   "source": [
    "Transfer data from table on Wikipedia page into a dataframe. "
   ]
  },
  {
   "cell_type": "code",
   "execution_count": 5,
   "metadata": {},
   "outputs": [
    {
     "data": {
      "text/html": [
       "<div>\n",
       "<style scoped>\n",
       "    .dataframe tbody tr th:only-of-type {\n",
       "        vertical-align: middle;\n",
       "    }\n",
       "\n",
       "    .dataframe tbody tr th {\n",
       "        vertical-align: top;\n",
       "    }\n",
       "\n",
       "    .dataframe thead th {\n",
       "        text-align: right;\n",
       "    }\n",
       "</style>\n",
       "<table border=\"1\" class=\"dataframe\">\n",
       "  <thead>\n",
       "    <tr style=\"text-align: right;\">\n",
       "      <th></th>\n",
       "      <th>Postal Code</th>\n",
       "      <th>Borough</th>\n",
       "      <th>Neighborhood</th>\n",
       "    </tr>\n",
       "  </thead>\n",
       "  <tbody>\n",
       "    <tr>\n",
       "      <th>0</th>\n",
       "      <td>M1A</td>\n",
       "      <td>Not assigned</td>\n",
       "      <td></td>\n",
       "    </tr>\n",
       "    <tr>\n",
       "      <th>1</th>\n",
       "      <td>M2A</td>\n",
       "      <td>Not assigned</td>\n",
       "      <td></td>\n",
       "    </tr>\n",
       "    <tr>\n",
       "      <th>2</th>\n",
       "      <td>M3A</td>\n",
       "      <td>North York</td>\n",
       "      <td>Parkwoods</td>\n",
       "    </tr>\n",
       "    <tr>\n",
       "      <th>3</th>\n",
       "      <td>M4A</td>\n",
       "      <td>North York</td>\n",
       "      <td>Victoria Village</td>\n",
       "    </tr>\n",
       "    <tr>\n",
       "      <th>4</th>\n",
       "      <td>M5A</td>\n",
       "      <td>Downtown Toronto</td>\n",
       "      <td>Regent Park, Harbourfront</td>\n",
       "    </tr>\n",
       "  </tbody>\n",
       "</table>\n",
       "</div>"
      ],
      "text/plain": [
       "  Postal Code           Borough               Neighborhood\n",
       "0         M1A      Not assigned                           \n",
       "1         M2A      Not assigned                           \n",
       "2         M3A        North York                  Parkwoods\n",
       "3         M4A        North York           Victoria Village\n",
       "4         M5A  Downtown Toronto  Regent Park, Harbourfront"
      ]
     },
     "execution_count": 5,
     "metadata": {},
     "output_type": "execute_result"
    }
   ],
   "source": [
    "# Create a parse tree of wikipedia page on Toronto postal codes.\n",
    "postal_page = requests.get('http://en.wikipedia.org/wiki/List_of_postal_codes_of_Canada:_M').text\n",
    "postal_soup = BeautifulSoup.BeautifulSoup(postal_page,'html.parser')\n",
    "\n",
    "# Extract the table\n",
    "table_soup = postal_soup.find('table')\n",
    "\n",
    "# Transfer the table data into a pandas dataframe.\n",
    "table_data = []\n",
    "\n",
    "for row in table_soup.find_all('tr'):\n",
    "    row_data = []\n",
    "    \n",
    "    for header in row.find_all('th'):\n",
    "        row_data.append(header.text.replace('\\n','').strip())\n",
    "    \n",
    "    for datum in row.find_all('td'):\n",
    "        row_data.append(datum.text.replace('\\n','').strip())\n",
    "\n",
    "    table_data.append(row_data)     \n",
    "\n",
    "headers = table_data[0]\n",
    "data = table_data[1:-1]\n",
    "\n",
    "postal_df = pd.DataFrame(data,columns = headers)\n",
    "postal_df.head()"
   ]
  },
  {
   "cell_type": "markdown",
   "metadata": {},
   "source": [
    "Clean up the dataframe."
   ]
  },
  {
   "cell_type": "code",
   "execution_count": 6,
   "metadata": {},
   "outputs": [
    {
     "data": {
      "text/plain": [
       "array(['Not assigned', 'North York', 'Downtown Toronto', 'Etobicoke',\n",
       "       'Scarborough', 'East York', 'York', 'East Toronto', 'West Toronto',\n",
       "       'Central Toronto', 'Mississauga'], dtype=object)"
      ]
     },
     "execution_count": 6,
     "metadata": {},
     "output_type": "execute_result"
    }
   ],
   "source": [
    "# Check the 'Borough' feature for possible null values\n",
    "postal_df['Borough'].unique()"
   ]
  },
  {
   "cell_type": "code",
   "execution_count": 7,
   "metadata": {},
   "outputs": [
    {
     "data": {
      "text/html": [
       "<div>\n",
       "<style scoped>\n",
       "    .dataframe tbody tr th:only-of-type {\n",
       "        vertical-align: middle;\n",
       "    }\n",
       "\n",
       "    .dataframe tbody tr th {\n",
       "        vertical-align: top;\n",
       "    }\n",
       "\n",
       "    .dataframe thead th {\n",
       "        text-align: right;\n",
       "    }\n",
       "</style>\n",
       "<table border=\"1\" class=\"dataframe\">\n",
       "  <thead>\n",
       "    <tr style=\"text-align: right;\">\n",
       "      <th></th>\n",
       "      <th>Postal Code</th>\n",
       "      <th>Borough</th>\n",
       "      <th>Neighborhood</th>\n",
       "    </tr>\n",
       "  </thead>\n",
       "  <tbody>\n",
       "    <tr>\n",
       "      <th>2</th>\n",
       "      <td>M3A</td>\n",
       "      <td>North York</td>\n",
       "      <td>Parkwoods</td>\n",
       "    </tr>\n",
       "    <tr>\n",
       "      <th>3</th>\n",
       "      <td>M4A</td>\n",
       "      <td>North York</td>\n",
       "      <td>Victoria Village</td>\n",
       "    </tr>\n",
       "    <tr>\n",
       "      <th>4</th>\n",
       "      <td>M5A</td>\n",
       "      <td>Downtown Toronto</td>\n",
       "      <td>Regent Park, Harbourfront</td>\n",
       "    </tr>\n",
       "    <tr>\n",
       "      <th>5</th>\n",
       "      <td>M6A</td>\n",
       "      <td>North York</td>\n",
       "      <td>Lawrence Manor, Lawrence Heights</td>\n",
       "    </tr>\n",
       "    <tr>\n",
       "      <th>6</th>\n",
       "      <td>M7A</td>\n",
       "      <td>Downtown Toronto</td>\n",
       "      <td>Queen's Park, Ontario Provincial Government</td>\n",
       "    </tr>\n",
       "  </tbody>\n",
       "</table>\n",
       "</div>"
      ],
      "text/plain": [
       "  Postal Code           Borough                                 Neighborhood\n",
       "2         M3A        North York                                    Parkwoods\n",
       "3         M4A        North York                             Victoria Village\n",
       "4         M5A  Downtown Toronto                    Regent Park, Harbourfront\n",
       "5         M6A        North York             Lawrence Manor, Lawrence Heights\n",
       "6         M7A  Downtown Toronto  Queen's Park, Ontario Provincial Government"
      ]
     },
     "execution_count": 7,
     "metadata": {},
     "output_type": "execute_result"
    }
   ],
   "source": [
    "# Drop rows without assigned boroughs. \n",
    "postal_df = postal_df   [postal_df['Borough'] != 'Not assigned']\n",
    "postal_df.head()"
   ]
  },
  {
   "cell_type": "code",
   "execution_count": 8,
   "metadata": {},
   "outputs": [
    {
     "name": "stdout",
     "output_type": "stream",
     "text": [
      "(103, 3)\n",
      "103\n"
     ]
    }
   ],
   "source": [
    "# Reset the index. Check that the number of rows is same as number of unique postal codes, i.e., there are no duplicates.\n",
    "postal_df.reset_index(drop = True, inplace = True)\n",
    "print (postal_df.shape)\n",
    "print (len(postal_df['Postal Code'].unique()))"
   ]
  },
  {
   "cell_type": "code",
   "execution_count": 9,
   "metadata": {},
   "outputs": [
    {
     "name": "stdout",
     "output_type": "stream",
     "text": [
      "['Parkwoods' 'Victoria Village' 'Regent Park, Harbourfront'\n",
      " 'Lawrence Manor, Lawrence Heights'\n",
      " \"Queen's Park, Ontario Provincial Government\" 'Islington Avenue'\n",
      " 'Malvern, Rouge' 'Don Mills' 'Parkview Hill, Woodbine Gardens'\n",
      " 'Garden District, Ryerson' 'Glencairn'\n",
      " 'West Deane Park, Princess Gardens, Martin Grove, Islington, Cloverdale'\n",
      " 'Rouge Hill, Port Union, Highland Creek' 'Woodbine Heights'\n",
      " 'St. James Town' 'Humewood-Cedarvale'\n",
      " 'Eringate, Bloordale Gardens, Old Burnhamthorpe, Markland Wood'\n",
      " 'Guildwood, Morningside, West Hill' 'The Beaches' 'Berczy Park'\n",
      " 'Caledonia-Fairbanks' 'Woburn' 'Leaside' 'Central Bay Street' 'Christie'\n",
      " 'Cedarbrae' 'Hillcrest Village'\n",
      " 'Bathurst Manor, Wilson Heights, Downsview North' 'Thorncliffe Park'\n",
      " 'Richmond, Adelaide, King' 'Dufferin, Dovercourt Village'\n",
      " 'Scarborough Village' 'Fairview, Henry Farm, Oriole'\n",
      " 'Northwood Park, York University' 'East Toronto'\n",
      " 'Harbourfront East, Union Station, Toronto Islands'\n",
      " 'Little Portugal, Trinity' 'Kennedy Park, Ionview, East Birchmount Park'\n",
      " 'Bayview Village' 'Downsview' 'The Danforth West, Riverdale'\n",
      " 'Toronto Dominion Centre, Design Exchange'\n",
      " 'Brockton, Parkdale Village, Exhibition Place'\n",
      " 'Golden Mile, Clairlea, Oakridge' 'York Mills, Silver Hills'\n",
      " 'India Bazaar, The Beaches West' 'Commerce Court, Victoria Hotel'\n",
      " 'North Park, Maple Leaf Park, Upwood Park' 'Humber Summit'\n",
      " 'Cliffside, Cliffcrest, Scarborough Village West'\n",
      " 'Willowdale, Newtonbrook' 'Studio District'\n",
      " 'Bedford Park, Lawrence Manor East'\n",
      " 'Del Ray, Mount Dennis, Keelsdale and Silverthorn' 'Humberlea, Emery'\n",
      " 'Birch Cliff, Cliffside West' 'Willowdale' 'Lawrence Park' 'Roselawn'\n",
      " 'Runnymede, The Junction North' 'Weston'\n",
      " 'Dorset Park, Wexford Heights, Scarborough Town Centre' 'York Mills West'\n",
      " 'Davisville North' 'Forest Hill North & West'\n",
      " 'High Park, The Junction South' 'Westmount' 'Wexford, Maryvale'\n",
      " 'North Toronto West' 'The Annex, North Midtown, Yorkville'\n",
      " 'Parkdale, Roncesvalles' 'Canada Post Gateway Processing Centre'\n",
      " 'Kingsview Village, St. Phillips, Martin Grove Gardens, Richview Gardens'\n",
      " 'Agincourt' 'Davisville' 'University of Toronto, Harbord'\n",
      " 'Runnymede, Swansea' \"Clarks Corners, Tam O'Shanter, Sullivan\"\n",
      " 'Moore Park, Summerhill East' 'Kensington Market, Chinatown, Grange Park'\n",
      " \"Milliken, Agincourt North, Steeles East, L'Amoreaux East\"\n",
      " 'Summerhill West, Rathnelly, South Hill, Forest Hill SE, Deer Park'\n",
      " 'CN Tower, King and Spadina, Railway Lands, Harbourfront West, Bathurst Quay, South Niagara, Island airport'\n",
      " 'New Toronto, Mimico South, Humber Bay Shores'\n",
      " 'South Steeles, Silverstone, Humbergate, Jamestown, Mount Olive, Beaumond Heights, Thistletown, Albion Gardens'\n",
      " \"Steeles West, L'Amoreaux West\" 'Rosedale' 'Stn A PO Boxes'\n",
      " 'Alderwood, Long Branch' 'Northwest' 'Upper Rouge'\n",
      " 'St. James Town, Cabbagetown' 'First Canadian Place, Underground city'\n",
      " 'The Kingsway, Montgomery Road, Old Mill North' 'Church and Wellesley'\n",
      " 'Business reply mail Processing Centre'\n",
      " \"Old Mill South, King's Mill Park, Sunnylea, Humber Bay, Mimico NE, The Queensway East, Royal York South East, Kingsway Park South East\"\n",
      " 'Mimico NW, The Queensway West, South of Bloor, Kingsway Park South West, Royal York South West']\n",
      "False\n",
      "False\n"
     ]
    }
   ],
   "source": [
    "# Check that there are no unassigned neighborhoods.\n",
    "\n",
    "print (postal_df['Neighborhood'].unique())\n",
    "print ('Not Assigned' in postal_df['Neighborhood'])\n",
    "print (np.nan in postal_df['Neighborhood'])"
   ]
  },
  {
   "cell_type": "code",
   "execution_count": 10,
   "metadata": {},
   "outputs": [],
   "source": [
    "# Write the cleaned datagrame to csv.\n",
    "postal_df.to_csv(path_or_buf = 'toronto_postal_data.csv',index = False,)"
   ]
  },
  {
   "cell_type": "code",
   "execution_count": 11,
   "metadata": {},
   "outputs": [
    {
     "data": {
      "text/html": [
       "<div>\n",
       "<style scoped>\n",
       "    .dataframe tbody tr th:only-of-type {\n",
       "        vertical-align: middle;\n",
       "    }\n",
       "\n",
       "    .dataframe tbody tr th {\n",
       "        vertical-align: top;\n",
       "    }\n",
       "\n",
       "    .dataframe thead th {\n",
       "        text-align: right;\n",
       "    }\n",
       "</style>\n",
       "<table border=\"1\" class=\"dataframe\">\n",
       "  <thead>\n",
       "    <tr style=\"text-align: right;\">\n",
       "      <th></th>\n",
       "      <th>Postal Code</th>\n",
       "      <th>Borough</th>\n",
       "      <th>Neighborhood</th>\n",
       "    </tr>\n",
       "  </thead>\n",
       "  <tbody>\n",
       "    <tr>\n",
       "      <th>0</th>\n",
       "      <td>M3A</td>\n",
       "      <td>North York</td>\n",
       "      <td>Parkwoods</td>\n",
       "    </tr>\n",
       "    <tr>\n",
       "      <th>1</th>\n",
       "      <td>M4A</td>\n",
       "      <td>North York</td>\n",
       "      <td>Victoria Village</td>\n",
       "    </tr>\n",
       "    <tr>\n",
       "      <th>2</th>\n",
       "      <td>M5A</td>\n",
       "      <td>Downtown Toronto</td>\n",
       "      <td>Regent Park, Harbourfront</td>\n",
       "    </tr>\n",
       "    <tr>\n",
       "      <th>3</th>\n",
       "      <td>M6A</td>\n",
       "      <td>North York</td>\n",
       "      <td>Lawrence Manor, Lawrence Heights</td>\n",
       "    </tr>\n",
       "    <tr>\n",
       "      <th>4</th>\n",
       "      <td>M7A</td>\n",
       "      <td>Downtown Toronto</td>\n",
       "      <td>Queen's Park, Ontario Provincial Government</td>\n",
       "    </tr>\n",
       "  </tbody>\n",
       "</table>\n",
       "</div>"
      ],
      "text/plain": [
       "  Postal Code           Borough                                 Neighborhood\n",
       "0         M3A        North York                                    Parkwoods\n",
       "1         M4A        North York                             Victoria Village\n",
       "2         M5A  Downtown Toronto                    Regent Park, Harbourfront\n",
       "3         M6A        North York             Lawrence Manor, Lawrence Heights\n",
       "4         M7A  Downtown Toronto  Queen's Park, Ontario Provincial Government"
      ]
     },
     "execution_count": 11,
     "metadata": {},
     "output_type": "execute_result"
    }
   ],
   "source": [
    "postal_df.head()"
   ]
  },
  {
   "cell_type": "code",
   "execution_count": null,
   "metadata": {},
   "outputs": [],
   "source": []
  }
 ],
 "metadata": {
  "kernelspec": {
   "display_name": "Python",
   "language": "python",
   "name": "conda-env-python-py"
  },
  "language_info": {
   "codemirror_mode": {
    "name": "ipython",
    "version": 3
   },
   "file_extension": ".py",
   "mimetype": "text/x-python",
   "name": "python",
   "nbconvert_exporter": "python",
   "pygments_lexer": "ipython3",
   "version": "3.6.10"
  }
 },
 "nbformat": 4,
 "nbformat_minor": 4
}
